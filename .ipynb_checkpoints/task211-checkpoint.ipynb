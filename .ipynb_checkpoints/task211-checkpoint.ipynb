{
 "cells": [
  {
   "cell_type": "code",
   "execution_count": 342,
   "metadata": {},
   "outputs": [],
   "source": [
    "import sys"
   ]
  },
  {
   "cell_type": "code",
   "execution_count": 347,
   "metadata": {},
   "outputs": [
    {
     "name": "stdout",
     "output_type": "stream",
     "text": [
      "/opt/anaconda3/lib/python3.8/site-packages/ipykernel_launcher.py\n",
      "-f\n",
      "/Users/irina.buht12/Library/Jupyter/runtime/kernel-68292945-42d8-4b75-8a84-dbf99575580a.json\n"
     ]
    }
   ],
   "source": [
    "if __name__ == \"__main__\":\n",
    "    if len(sys.argv) > 1:\n",
    "        large_text = open(sys.argv[1], \"r\")\n",
    "    else:\n",
    "        raise Exception(\"Please, enter the name of file with text as 1st arg!\")"
   ]
  },
  {
   "cell_type": "code",
   "execution_count": 329,
   "metadata": {},
   "outputs": [],
   "source": [
    "class State:\n",
    "    def __init__(self):\n",
    "        self.long_len = 0\n",
    "        self.link = -1\n",
    "        self.next = {}\n",
    "        \n",
    "        self.first_pos_of_end = 1\n"
   ]
  },
  {
   "cell_type": "code",
   "execution_count": 335,
   "metadata": {},
   "outputs": [],
   "source": [
    "class SuffAutomation:\n",
    "    def __init__(self):\n",
    "        self.states = []\n",
    "        self.last_st = 0\n",
    "        self.states.append(State())\n",
    "        self.max_size = 1\n",
    "        \n",
    "    def add_char(self, c):\n",
    "        curr_state = self.max_size\n",
    "        self.max_size += 1\n",
    "        self.states.append(State())\n",
    "        self.states[curr_state].long_len = self.states[self.last_st].long_len + 1\n",
    "        self.states[curr_state].first_pos_of_end = self.states[curr_state].long_len - 1 \n",
    "        iterator = self.last_st\n",
    "        \n",
    "        while (iterator != -1 and c not in self.states[iterator].next):\n",
    "            self.states[iterator].next[c] = curr_state\n",
    "            iterator = self.states[iterator].link\n",
    "        if iterator == -1:\n",
    "            self.states[curr_state].link = 0\n",
    "        else:\n",
    "            st_without_c = self.states[iterator].next[c]\n",
    "            if self.states[iterator].long_len + 1 == self.states[st_without_c].long_len:\n",
    "                self.states[curr_state].link = st_without_c\n",
    "            else:\n",
    "                clone_state = self.max_size\n",
    "                self.max_size += 1\n",
    "                self.states.append(State())\n",
    "                self.states[clone_state].long_len = self.states[iterator].long_len + 1\n",
    "                self.states[clone_state].next = self.states[st_without_c].next\n",
    "                self.states[clone_state].link = self.states[st_without_c].link\n",
    "                self.states[clone_state].first_pos_of_end = self.states[st_without_c].first_pos_of_end\n",
    "                while (iterator != -1 and self.states[iterator].next[c] == st_without_c):\n",
    "                    self.states[iterator].next[c] = clone_state\n",
    "                    iterator = self.states[iterator].link\n",
    "                self.states[st_without_c].link = clone_state\n",
    "                self.states[curr_state].link = clone_state\n",
    "        self.last_st = curr_state        \n",
    "    \n",
    "    def build_suff_tree(self, text):\n",
    "        for c in text:\n",
    "            self.add_char(c)\n",
    "        \n",
    "    def search_str_in_text(self, string):\n",
    "        curr_state = self.states[0]\n",
    "        first_pos = -1\n",
    "        for c in string:\n",
    "            if c in curr_state.next:\n",
    "                curr_state = self.states[curr_state.next[c]]\n",
    "                first_pos = curr_state.first_pos_of_end\n",
    "            else:\n",
    "                return -1\n",
    "        return first_pos - len(string) + 1"
   ]
  },
  {
   "cell_type": "code",
   "execution_count": 336,
   "metadata": {},
   "outputs": [],
   "source": [
    "suff_auto = SuffAutomation()\n"
   ]
  },
  {
   "cell_type": "code",
   "execution_count": 337,
   "metadata": {},
   "outputs": [],
   "source": [
    "suff_auto.build_suff_tree(\"hello world aaaaaaa\")"
   ]
  },
  {
   "cell_type": "code",
   "execution_count": 341,
   "metadata": {},
   "outputs": [
    {
     "name": "stdout",
     "output_type": "stream",
     "text": [
      "Hello world\n"
     ]
    }
   ],
   "source": [
    "suff_auto.search_str_in_text(\"aaaaaaaa\")\n",
    "print(\"Hello world\")"
   ]
  },
  {
   "cell_type": "code",
   "execution_count": null,
   "metadata": {},
   "outputs": [],
   "source": [
    "with open(\"examp.le\", \"w\") as f:"
   ]
  }
 ],
 "metadata": {
  "kernelspec": {
   "display_name": "Python 3",
   "language": "python",
   "name": "python3"
  },
  "language_info": {
   "codemirror_mode": {
    "name": "ipython",
    "version": 3
   },
   "file_extension": ".py",
   "mimetype": "text/x-python",
   "name": "python",
   "nbconvert_exporter": "python",
   "pygments_lexer": "ipython3",
   "version": "3.8.5"
  }
 },
 "nbformat": 4,
 "nbformat_minor": 4
}
